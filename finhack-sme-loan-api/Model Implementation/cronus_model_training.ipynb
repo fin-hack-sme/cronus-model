{
  "nbformat": 4,
  "nbformat_minor": 0,
  "metadata": {
    "colab": {
      "provenance": []
    },
    "kernelspec": {
      "name": "python3",
      "display_name": "Python 3"
    },
    "language_info": {
      "name": "python"
    }
  },
  "cells": [
    {
      "cell_type": "code",
      "execution_count": 1,
      "metadata": {
        "id": "D1SLOYXxbQV1"
      },
      "outputs": [],
      "source": [
        "import pandas as pd\n",
        "import numpy as np\n",
        "from sklearn.model_selection import train_test_split\n",
        "from sklearn.metrics import accuracy_score\n",
        "import xgboost as xgb"
      ]
    },
    {
      "cell_type": "code",
      "source": [
        "import pandas as pd\n",
        "import numpy as np\n",
        "\n",
        "# Set the random seed for reproducibility\n",
        "np.random.seed(42)\n",
        "\n",
        "# Define the number of rows\n",
        "num_rows = 500000\n",
        "\n",
        "# Generate synthetic data\n",
        "data = {\n",
        "    \"Industry Type\": np.random.choice([\"Manufacturing\", \"Retail\", \"Service\", \"IT\", \"Construction\"], num_rows),\n",
        "    \"Annual Sales (Revenue)\": np.random.uniform(1e5, 1e9, num_rows),\n",
        "    \"Net Income\": np.random.uniform(1e4, 1e7, num_rows),\n",
        "    \"Total Assets\": np.random.uniform(5e5, 1e9, num_rows),\n",
        "    \"Current Ratio\": np.random.uniform(0.5, 3, num_rows),\n",
        "    \"Quick Ratio\": np.random.uniform(0.5, 3, num_rows),\n",
        "    \"Debt to Equity Ratio\": np.random.uniform(0.1, 2, num_rows),\n",
        "    \"Return on Assets (ROA)\": np.random.uniform(-0.1, 0.3, num_rows),\n",
        "    \"Return on Equity (ROE)\": np.random.uniform(-0.1, 0.5, num_rows),\n",
        "    \"Gross Profit Margin\": np.random.uniform(10, 70, num_rows),\n",
        "    \"Operating Profit Margin\": np.random.uniform(5, 65, num_rows),\n",
        "    \"Net Profit Margin\": np.random.uniform(0, 30, num_rows),\n",
        "    \"Total Liabilities\": np.random.uniform(1e5, 1e8, num_rows),\n",
        "    \"Total Shareholder Equity\": np.abs(np.random.uniform(1e4, 1e8, num_rows)),\n",
        "    \"Number of Employees\": np.random.randint(10, 50, num_rows),\n",
        "    \"Age of the Company\": np.random.randint(1, 36, num_rows),\n",
        "\n",
        "    \"UrbanORRural\": np.random.choice([\"Urban\", \"Rural\"], num_rows),\n",
        "    # \"NAICS Code\": np.random.randint(111110, 812990, num_rows),\n",
        "    \"NewExist\": np.random.choice([\"New\", \"Exist\"], num_rows),\n",
        "    \"Credit Score\": np.random.randint(300, 850, num_rows),\n",
        "    \"Number of Existing Loans\": np.random.randint(0, 5, num_rows),\n",
        "    \"Percentage of On-time Payments\": np.random.uniform(30, 100, num_rows),\n",
        "    \"Number of Missed or Late Payments\": np.random.randint(0, 5, num_rows),\n",
        "     \"Loan Amount Requested\": np.random.uniform(5e4, 1e7, num_rows),\n",
        "}\n",
        "\n",
        "# Create a DataFrame\n",
        "df = pd.DataFrame(data)\n",
        "\n",
        "# Function to determine the approved amount\n",
        "def calculate_approved_amount(requested, credit_score, missed_payments):\n",
        "    reduction = 0.02 * (850 - credit_score) / 550 + 0.02 * missed_payments\n",
        "    return max(0, requested * (1 - reduction))\n",
        "\n",
        "import random\n",
        "\n",
        "import random\n",
        "\n",
        "def determine_loan_status(row):\n",
        "    conditions = (\n",
        "        row['Debt to Equity Ratio'] < 0.5 and\n",
        "        row['Current Ratio'] > 1.5 and\n",
        "        row['Net Profit Margin'] > 0.1 and\n",
        "        row['Credit Score'] > 600 and\n",
        "        row['Number of Existing Loans'] == 0 and\n",
        "        row['Percentage of On-time Payments'] > 80 and\n",
        "        row['Number of Missed or Late Payments'] == 0\n",
        "    )\n",
        "\n",
        "    # Introduce random noise for noisy approvals\n",
        "    noisy_approval_chance = 0.1  # Decreased noise level\n",
        "    random_approval = random.random() < noisy_approval_chance\n",
        "\n",
        "    return \"Approved\" if conditions or random_approval else \"Rejected\"\n",
        "\n",
        "\n",
        "\n",
        "# Apply the functions\n",
        "df['Approved Amount'] = df.apply(lambda x: calculate_approved_amount(x['Loan Amount Requested'], x['Credit Score'], x['Number of Missed or Late Payments']), axis=1)\n",
        "df['Loan Status'] = df.apply(determine_loan_status, axis=1)\n",
        "# Function to determine risk category based on specified criteria\n",
        "def determine_risk_category(row):\n",
        "    # Define criteria for each risk category\n",
        "    high_risk_criteria = {\n",
        "        \"Debt to Equity Ratio\": lambda x: x > 1,\n",
        "        \"Current Ratio\": lambda x: x < 1,\n",
        "        \"Net Profit Margin\": lambda x: x < 0.05,\n",
        "        \"Credit Score\": lambda x: x < 620,\n",
        "        \"Number of Existing Loans\": lambda x: x >= 3,\n",
        "        \"Percentage of On-time Payments\": lambda x: x < 70,\n",
        "        \"Number of Missed or Late Payments\": lambda x: x >= 2\n",
        "    }\n",
        "\n",
        "    medium_risk_criteria = {\n",
        "        \"Debt to Equity Ratio\": lambda x: x > 0.5,\n",
        "        \"Current Ratio\": lambda x: 1 <= x <= 2,\n",
        "        \"Net Profit Margin\": lambda x: 0.05 <= x < 0.1,\n",
        "        \"Credit Score\": lambda x: 600 <= x < 700,\n",
        "        \"Number of Existing Loans\": lambda x: 1 <= x < 3,\n",
        "        \"Percentage of On-time Payments\": lambda x: 70 <= x < 85,\n",
        "        \"Number of Missed or Late Payments\": lambda x: 1 <= x < 2\n",
        "    }\n",
        "\n",
        "    # Check if the row meets the criteria for each risk category\n",
        "    high_risk_conditions = all(condition(row[column]) for column, condition in high_risk_criteria.items())\n",
        "    medium_risk_conditions = all(condition(row[column]) for column, condition in medium_risk_criteria.items())\n",
        "\n",
        "    # Return the appropriate risk category\n",
        "    if high_risk_conditions:\n",
        "        return \"High Risk\"\n",
        "    elif medium_risk_conditions:\n",
        "        return \"Medium Risk\"\n",
        "    else:\n",
        "        return \"Low Risk\"\n",
        "\n",
        "# Apply the function to create a new column for risk category\n",
        "df['Risk_Category'] = df.apply(determine_risk_category, axis=1)\n",
        "# Define interest rate ranges for each risk category\n",
        "# Define a function to calculate tenure in months based on some criteria\n",
        "def calculate_tenure(row):\n",
        "    # Define the range for short, medium, and long tenure in months\n",
        "    short_tenure_range = (6, 12)   # 6 to 12 months\n",
        "    medium_tenure_range = (12, 24)  # 12 to 24 months\n",
        "    long_tenure_range = (24, 36)    # 24 to 36 months\n",
        "\n",
        "    # Define criteria for determining tenure\n",
        "    if row['Number of Existing Loans'] == 0:\n",
        "        return np.random.randint(*short_tenure_range)  # Short tenure\n",
        "    elif row['Number of Existing Loans'] == 1:\n",
        "        return np.random.randint(*medium_tenure_range)  # Medium tenure\n",
        "    else:\n",
        "        return np.random.randint(*long_tenure_range)  # Long tenure\n",
        "\n",
        "# Apply the function to create a new column representing tenure\n",
        "df['Loan_Tenure_Months'] = df.apply(calculate_tenure, axis=1)\n",
        "\n",
        "# Define interest rate ranges for each tenure category\n",
        "interest_rate_ranges = {\n",
        "    (6, 12): (0.05, 0.08),   # Short tenure\n",
        "    (12, 24): (0.08, 0.12),  # Medium tenure\n",
        "    (24, 36): (0.12, 0.15)   # Long tenure\n",
        "}\n",
        "\n",
        "# Function to determine interest rate based on loan tenure\n",
        "def determine_interest_rate(row):\n",
        "    tenure = row['Loan_Tenure_Months']\n",
        "    for tenure_range, interest_rate_range in interest_rate_ranges.items():\n",
        "        if tenure_range[0] <= tenure <= tenure_range[1]:\n",
        "            return np.random.uniform(*interest_rate_range)\n",
        "    # Default interest rate for unknown tenure\n",
        "    return np.random.uniform(0.08, 0.12)\n",
        "\n",
        "# Apply the function to create a new column for interest rate\n",
        "df['Interest_Rate'] = df.apply(determine_interest_rate, axis=1)\n",
        "df.drop('Risk_Category',axis=1)\n",
        "\n",
        "num_rows = len(df)\n",
        "min_value = 10000000\n",
        "max_value = 1000000000\n",
        "\n",
        "# Generate unique random numbers until we have enough unique values\n",
        "unique_ids = set()\n",
        "while len(unique_ids) < num_rows:\n",
        "    unique_ids.add(np.random.randint(min_value, max_value))\n",
        "\n",
        "\n",
        "# Convert set to a list and assign it to the TAN_ID column\n",
        "df['TAN_ID'] = list(unique_ids)\n",
        "# Save the DataFrame to a CSV file\n",
        "df.to_csv('SME_Loan_Applications_Detailed.csv', index=False)"
      ],
      "metadata": {
        "id": "0WEyBf4ZqR8O"
      },
      "execution_count": 2,
      "outputs": []
    },
    {
      "cell_type": "code",
      "source": [],
      "metadata": {
        "id": "YT0kUmT1tj_8"
      },
      "execution_count": 2,
      "outputs": []
    },
    {
      "cell_type": "code",
      "source": [
        "df=pd.read_csv('SME_Loan_Applications_Detailed.csv')"
      ],
      "metadata": {
        "id": "ltf81OakblV-"
      },
      "execution_count": 3,
      "outputs": []
    },
    {
      "cell_type": "code",
      "source": [
        "df.columns"
      ],
      "metadata": {
        "colab": {
          "base_uri": "https://localhost:8080/"
        },
        "id": "0gr_v17xs3yi",
        "outputId": "08806e5f-1a26-4704-d2c6-51bd7e4ce82b"
      },
      "execution_count": 4,
      "outputs": [
        {
          "output_type": "execute_result",
          "data": {
            "text/plain": [
              "Index(['Industry Type', 'Annual Sales (Revenue)', 'Net Income', 'Total Assets',\n",
              "       'Current Ratio', 'Quick Ratio', 'Debt to Equity Ratio',\n",
              "       'Return on Assets (ROA)', 'Return on Equity (ROE)',\n",
              "       'Gross Profit Margin', 'Operating Profit Margin', 'Net Profit Margin',\n",
              "       'Total Liabilities', 'Total Shareholder Equity', 'Number of Employees',\n",
              "       'Age of the Company', 'UrbanORRural', 'NewExist', 'Credit Score',\n",
              "       'Number of Existing Loans', 'Percentage of On-time Payments',\n",
              "       'Number of Missed or Late Payments', 'Loan Amount Requested',\n",
              "       'Approved Amount', 'Loan Status', 'Risk_Category', 'Loan_Tenure_Months',\n",
              "       'Interest_Rate', 'TAN_ID'],\n",
              "      dtype='object')"
            ]
          },
          "metadata": {},
          "execution_count": 4
        }
      ]
    },
    {
      "cell_type": "code",
      "source": [
        "df.columns"
      ],
      "metadata": {
        "colab": {
          "base_uri": "https://localhost:8080/"
        },
        "id": "kbjshGX4gyQj",
        "outputId": "f2e5b75e-3db3-4165-fc71-f63e211ab4c8"
      },
      "execution_count": 5,
      "outputs": [
        {
          "output_type": "execute_result",
          "data": {
            "text/plain": [
              "Index(['Industry Type', 'Annual Sales (Revenue)', 'Net Income', 'Total Assets',\n",
              "       'Current Ratio', 'Quick Ratio', 'Debt to Equity Ratio',\n",
              "       'Return on Assets (ROA)', 'Return on Equity (ROE)',\n",
              "       'Gross Profit Margin', 'Operating Profit Margin', 'Net Profit Margin',\n",
              "       'Total Liabilities', 'Total Shareholder Equity', 'Number of Employees',\n",
              "       'Age of the Company', 'UrbanORRural', 'NewExist', 'Credit Score',\n",
              "       'Number of Existing Loans', 'Percentage of On-time Payments',\n",
              "       'Number of Missed or Late Payments', 'Loan Amount Requested',\n",
              "       'Approved Amount', 'Loan Status', 'Risk_Category', 'Loan_Tenure_Months',\n",
              "       'Interest_Rate', 'TAN_ID'],\n",
              "      dtype='object')"
            ]
          },
          "metadata": {},
          "execution_count": 5
        }
      ]
    },
    {
      "cell_type": "code",
      "source": [
        "from sklearn.preprocessing import LabelEncoder\n",
        "\n",
        "# Creating a instance of label Encoder.\n",
        "le = LabelEncoder()\n",
        "\n",
        "# Using .fit_transform function to fit label\n",
        "# encoder and return encoded label\n",
        "label = le.fit_transform(df['Industry Type'])\n",
        "df['Industry Type']=label\n",
        "\n",
        "# # printing label\n"
      ],
      "metadata": {
        "id": "aFYbsqdueNId"
      },
      "execution_count": 6,
      "outputs": []
    },
    {
      "cell_type": "code",
      "source": [
        "df.columns"
      ],
      "metadata": {
        "id": "_LyNtg6_iMrl",
        "colab": {
          "base_uri": "https://localhost:8080/"
        },
        "outputId": "a1ba85d2-64fe-4589-b78c-80798fb058a8"
      },
      "execution_count": 7,
      "outputs": [
        {
          "output_type": "execute_result",
          "data": {
            "text/plain": [
              "Index(['Industry Type', 'Annual Sales (Revenue)', 'Net Income', 'Total Assets',\n",
              "       'Current Ratio', 'Quick Ratio', 'Debt to Equity Ratio',\n",
              "       'Return on Assets (ROA)', 'Return on Equity (ROE)',\n",
              "       'Gross Profit Margin', 'Operating Profit Margin', 'Net Profit Margin',\n",
              "       'Total Liabilities', 'Total Shareholder Equity', 'Number of Employees',\n",
              "       'Age of the Company', 'UrbanORRural', 'NewExist', 'Credit Score',\n",
              "       'Number of Existing Loans', 'Percentage of On-time Payments',\n",
              "       'Number of Missed or Late Payments', 'Loan Amount Requested',\n",
              "       'Approved Amount', 'Loan Status', 'Risk_Category', 'Loan_Tenure_Months',\n",
              "       'Interest_Rate', 'TAN_ID'],\n",
              "      dtype='object')"
            ]
          },
          "metadata": {},
          "execution_count": 7
        }
      ]
    },
    {
      "cell_type": "code",
      "source": [
        "import numpy as np\n",
        "df['Loan Status'] = np.where(df['Loan Status']=='Approved', 1, 0)\n",
        "df['UrbanORRural'] = np.where(df['UrbanORRural']=='True', 1, 0)\n",
        "df['NewExist'] = np.where(df['NewExist']=='New', 1, 0)\n",
        "df['Loan_per_Approved']=df['Loan Amount Requested']/df['Approved Amount']\n",
        "df=df.drop('Approved Amount', axis=1)"
      ],
      "metadata": {
        "id": "X0zzSkv6g9Cw"
      },
      "execution_count": 8,
      "outputs": []
    },
    {
      "cell_type": "code",
      "source": [
        "print(df['Loan Status'].value_counts())"
      ],
      "metadata": {
        "colab": {
          "base_uri": "https://localhost:8080/"
        },
        "id": "VlGbmPFwiP-B",
        "outputId": "50cf8252-329c-4e9d-b4af-22dd1e3a1514"
      },
      "execution_count": 9,
      "outputs": [
        {
          "output_type": "stream",
          "name": "stdout",
          "text": [
            "Loan Status\n",
            "0    449265\n",
            "1     50735\n",
            "Name: count, dtype: int64\n"
          ]
        }
      ]
    },
    {
      "cell_type": "code",
      "source": [
        "# Check for NaN values\n",
        "nan_values = df.isna()\n",
        "\n",
        "# Count NaN values in each column\n",
        "nan_counts = nan_values.sum()"
      ],
      "metadata": {
        "id": "TiqiCQvJhGEJ"
      },
      "execution_count": 10,
      "outputs": []
    },
    {
      "cell_type": "code",
      "source": [
        "df=df.drop('Risk_Category',axis=1)"
      ],
      "metadata": {
        "id": "hHWR53BaPhEo"
      },
      "execution_count": 11,
      "outputs": []
    },
    {
      "cell_type": "code",
      "source": [
        "df.columns = df.columns.str.replace(' ', '_')"
      ],
      "metadata": {
        "id": "5xhRHdZij82r"
      },
      "execution_count": 12,
      "outputs": []
    },
    {
      "cell_type": "code",
      "source": [
        "df.columns"
      ],
      "metadata": {
        "colab": {
          "base_uri": "https://localhost:8080/"
        },
        "id": "n1sCFrigltvR",
        "outputId": "ff5c1d0c-8f2a-4431-aaa8-1a67b1840454"
      },
      "execution_count": 13,
      "outputs": [
        {
          "output_type": "execute_result",
          "data": {
            "text/plain": [
              "Index(['Industry_Type', 'Annual_Sales_(Revenue)', 'Net_Income', 'Total_Assets',\n",
              "       'Current_Ratio', 'Quick_Ratio', 'Debt_to_Equity_Ratio',\n",
              "       'Return_on_Assets_(ROA)', 'Return_on_Equity_(ROE)',\n",
              "       'Gross_Profit_Margin', 'Operating_Profit_Margin', 'Net_Profit_Margin',\n",
              "       'Total_Liabilities', 'Total_Shareholder_Equity', 'Number_of_Employees',\n",
              "       'Age_of_the_Company', 'UrbanORRural', 'NewExist', 'Credit_Score',\n",
              "       'Number_of_Existing_Loans', 'Percentage_of_On-time_Payments',\n",
              "       'Number_of_Missed_or_Late_Payments', 'Loan_Amount_Requested',\n",
              "       'Loan_Status', 'Loan_Tenure_Months', 'Interest_Rate', 'TAN_ID',\n",
              "       'Loan_per_Approved'],\n",
              "      dtype='object')"
            ]
          },
          "metadata": {},
          "execution_count": 13
        }
      ]
    },
    {
      "cell_type": "code",
      "source": [
        "df[df['Loan_Status']==1]['TAN_ID']"
      ],
      "metadata": {
        "colab": {
          "base_uri": "https://localhost:8080/"
        },
        "id": "n9nAvCk-twDx",
        "outputId": "668c83a2-7204-42bb-9d0c-105c7409fba3"
      },
      "execution_count": 21,
      "outputs": [
        {
          "output_type": "execute_result",
          "data": {
            "text/plain": [
              "12        192938010\n",
              "32        395313216\n",
              "35        603979844\n",
              "44        763363416\n",
              "51        413139052\n",
              "            ...    \n",
              "499905    997195565\n",
              "499906    929038123\n",
              "499912    639631176\n",
              "499934     63962989\n",
              "499981    714080216\n",
              "Name: TAN_ID, Length: 50735, dtype: int64"
            ]
          },
          "metadata": {},
          "execution_count": 21
        }
      ]
    },
    {
      "cell_type": "code",
      "source": [
        "test_df = df.drop([ 'Interest_Rate', 'Loan_per_Approved','Loan_Amount_Requested','Loan_Tenure_Months'], axis=1)\n",
        "test_df[test_df['Loan_Status']==1]['TAN_ID']"
      ],
      "metadata": {
        "id": "R3GG5bxtcFAL",
        "colab": {
          "base_uri": "https://localhost:8080/"
        },
        "outputId": "8a21df15-ba17-458e-9a6a-dcb34d1872db"
      },
      "execution_count": 39,
      "outputs": [
        {
          "output_type": "execute_result",
          "data": {
            "text/plain": [
              "12        192938010\n",
              "32        395313216\n",
              "35        603979844\n",
              "44        763363416\n",
              "51        413139052\n",
              "            ...    \n",
              "499905    997195565\n",
              "499906    929038123\n",
              "499912    639631176\n",
              "499934     63962989\n",
              "499981    714080216\n",
              "Name: TAN_ID, Length: 50735, dtype: int64"
            ]
          },
          "metadata": {},
          "execution_count": 39
        }
      ]
    },
    {
      "cell_type": "code",
      "source": [
        "test_df=test_df.drop(\"Loan_Status\",axis=1)"
      ],
      "metadata": {
        "id": "s0xtrDYe0FqX"
      },
      "execution_count": 40,
      "outputs": []
    },
    {
      "cell_type": "code",
      "source": [
        "test_df.to_csv('test_final.csv')"
      ],
      "metadata": {
        "id": "FyZA-smUrMuk"
      },
      "execution_count": 41,
      "outputs": []
    },
    {
      "cell_type": "code",
      "source": [
        "X = df.drop(['Loan_Status', 'Interest_Rate', 'Loan_per_Approved','TAN_ID'], axis=1)\n",
        "y=df['Loan_Status']\n",
        "len(X.columns)"
      ],
      "metadata": {
        "id": "YPW0xAsp3gqX"
      },
      "execution_count": null,
      "outputs": []
    },
    {
      "cell_type": "code",
      "source": [
        "X = df.drop(['Loan_Status', 'Interest_Rate', 'Loan_per_Approved','TAN_ID'], axis=1)\n",
        "y=df['Loan_Status']\n",
        "X_train, X_test, y_train, y_test = train_test_split(X, y, test_size=0.2, random_state=42)\n",
        "\n",
        "# Train XGBoost model\n",
        "model = xgb.XGBClassifier()\n",
        "model.fit(X_train, y_train)\n",
        "\n",
        "# Make predictions on test data\n",
        "y_pred = model.predict(X_train)\n",
        "\n",
        "# Calculate accuracy\n",
        "accuracy = accuracy_score(y_train, y_pred)\n",
        "print(\"Accuracy:\", accuracy)\n",
        "\n",
        "# Show how inferences were made\n",
        "# print(\"\\nInference Examples:\")\n",
        "# for i in range(len(X_test)):\n",
        "#     prediction = model.predict(X_test.iloc[[i]])\n",
        "#     print(f\"Features: {X_test.iloc[i].values}, Predicted Label: {prediction}, True Label: {y_test.iloc[i]}\")"
      ],
      "metadata": {
        "colab": {
          "base_uri": "https://localhost:8080/"
        },
        "id": "jC-K2DQDcBSl",
        "outputId": "0d22db06-4153-4b83-9a5a-132fd6332a37"
      },
      "execution_count": 38,
      "outputs": [
        {
          "output_type": "stream",
          "name": "stdout",
          "text": [
            "Accuracy: 0.8991325\n"
          ]
        }
      ]
    },
    {
      "cell_type": "code",
      "source": [
        "len(X_train.columns)"
      ],
      "metadata": {
        "id": "7z8PZwxyrH3w"
      },
      "execution_count": null,
      "outputs": []
    },
    {
      "cell_type": "code",
      "source": [
        "X_train.columns"
      ],
      "metadata": {
        "id": "oMG3RaAsVhmE"
      },
      "execution_count": null,
      "outputs": []
    },
    {
      "cell_type": "code",
      "source": [
        "# Save the trained model to a file\n",
        "import pickle\n",
        "with open('prediction_model.pkl', 'wb') as file:\n",
        "    pickle.dump(model, file)\n",
        "\n",
        "print(\"Model saved successfully.\")"
      ],
      "metadata": {
        "colab": {
          "base_uri": "https://localhost:8080/"
        },
        "id": "mxuzAjBcJ-9N",
        "outputId": "9135d30e-914b-4a11-cfff-11a65b9e695c"
      },
      "execution_count": 27,
      "outputs": [
        {
          "output_type": "stream",
          "name": "stdout",
          "text": [
            "Model saved successfully.\n"
          ]
        }
      ]
    },
    {
      "cell_type": "code",
      "source": [
        "import pickle\n",
        "\n",
        "# Load the saved model from file\n",
        "with open('prediction_model.pkl', 'rb') as file:\n",
        "    model = pickle.load(file)"
      ],
      "metadata": {
        "id": "vQwOo1Bp3RKb"
      },
      "execution_count": 34,
      "outputs": []
    },
    {
      "cell_type": "code",
      "source": [
        "import pickle\n",
        "\n",
        "# Load the saved model from file\n",
        "with open('xgboost_model.pkl', 'rb') as file:\n",
        "    model = pickle.load(file)\n",
        "\n"
      ],
      "metadata": {
        "id": "964fKqjiKLGg",
        "colab": {
          "base_uri": "https://localhost:8080/",
          "height": 211
        },
        "outputId": "0b6bfcf1-07ed-47bb-86b8-eb01b417c0ca"
      },
      "execution_count": 28,
      "outputs": [
        {
          "output_type": "error",
          "ename": "FileNotFoundError",
          "evalue": "[Errno 2] No such file or directory: 'xgboost_model.pkl'",
          "traceback": [
            "\u001b[0;31m---------------------------------------------------------------------------\u001b[0m",
            "\u001b[0;31mFileNotFoundError\u001b[0m                         Traceback (most recent call last)",
            "\u001b[0;32m<ipython-input-28-bbcddc81bc34>\u001b[0m in \u001b[0;36m<cell line: 4>\u001b[0;34m()\u001b[0m\n\u001b[1;32m      2\u001b[0m \u001b[0;34m\u001b[0m\u001b[0m\n\u001b[1;32m      3\u001b[0m \u001b[0;31m# Load the saved model from file\u001b[0m\u001b[0;34m\u001b[0m\u001b[0;34m\u001b[0m\u001b[0m\n\u001b[0;32m----> 4\u001b[0;31m \u001b[0;32mwith\u001b[0m \u001b[0mopen\u001b[0m\u001b[0;34m(\u001b[0m\u001b[0;34m'xgboost_model.pkl'\u001b[0m\u001b[0;34m,\u001b[0m \u001b[0;34m'rb'\u001b[0m\u001b[0;34m)\u001b[0m \u001b[0;32mas\u001b[0m \u001b[0mfile\u001b[0m\u001b[0;34m:\u001b[0m\u001b[0;34m\u001b[0m\u001b[0;34m\u001b[0m\u001b[0m\n\u001b[0m\u001b[1;32m      5\u001b[0m     \u001b[0mmodel\u001b[0m \u001b[0;34m=\u001b[0m \u001b[0mpickle\u001b[0m\u001b[0;34m.\u001b[0m\u001b[0mload\u001b[0m\u001b[0;34m(\u001b[0m\u001b[0mfile\u001b[0m\u001b[0;34m)\u001b[0m\u001b[0;34m\u001b[0m\u001b[0;34m\u001b[0m\u001b[0m\n\u001b[1;32m      6\u001b[0m \u001b[0;34m\u001b[0m\u001b[0m\n",
            "\u001b[0;31mFileNotFoundError\u001b[0m: [Errno 2] No such file or directory: 'xgboost_model.pkl'"
          ]
        }
      ]
    },
    {
      "cell_type": "code",
      "source": [
        "import numpy as np\n",
        "\n",
        "# Assuming your XGBoost model is named 'model'\n",
        "# Assuming your test data is named 'x_test'\n",
        "\n",
        "# Choose just one row of test data\n",
        "test_row = test_df.iloc[[170]]\n",
        "print(y_test.iloc[[170]])\n",
        "# Get the prediction probabilities from your model for the selected row\n",
        "prediction_probs = model.predict_proba(test_row)\n",
        "predicted_class = np.argmax(prediction_probs)\n",
        "\n",
        "# Get the booster of the model\n",
        "booster = model.get_booster()\n",
        "\n",
        "# Get the indices of the top 5 most important features\n",
        "importance_scores = model.feature_importances_\n",
        "top5_indices =  np.argsort(importance_scores)[-5:]\n",
        "\n",
        "# Initialize a list to store the top 5 rules\n",
        "top5_rules = []\n",
        "\n",
        "# Get the tree associated with the predicted class\n",
        "tree = booster.get_dump()[predicted_class]\n",
        "\n",
        "# # Initialize a list to store the top 5 rules\n",
        "top5_rules = []\n",
        "\n",
        "# Initialize a list to store the top 5 rules\n",
        "top5_rules = []\n",
        "\n",
        "# Initialize a list to store the top 5 rules\n",
        "top5_rules = []\n",
        "\n",
        "# Parse the tree to extract the split conditions based on the input data\n",
        "for line in tree.split('\\n'):\n",
        "    for i in top5_indices:\n",
        "        feature_name = X_test.columns[i]\n",
        "        if feature_name in line:\n",
        "            feature_value = test_row.iloc[0, i]\n",
        "            split_info = line.strip()\n",
        "            # Split the line by whitespace\n",
        "            parts = split_info.split()\n",
        "            for part in parts:\n",
        "                if '<=' in part :\n",
        "                  operator='<='\n",
        "\n",
        "                elif '<' in part:\n",
        "                  operator='<'\n",
        "                elif '>=' in part:\n",
        "                  operator='>='\n",
        "                elif '>' in part:\n",
        "                  operator='>'\n",
        "\n",
        "\n",
        "                split_value =float(parts[0][parts[0].index(operator)+1:-1])\n",
        "\n",
        "\n",
        "\n",
        "                # Check if the split condition is satisfied\n",
        "                if (operator == \"<=\" and feature_value <= split_value) or \\\n",
        "                    (operator == \"<\" and feature_value < split_value) or \\\n",
        "                    (operator == \">=\" and feature_value >= split_value) or \\\n",
        "                    (operator == \">\" and feature_value > split_value):\n",
        "                    top5_rules.append(split_info)\n",
        "                    break  # No need to check further if condition is satisfied\n",
        "\n",
        "# Convert split conditions to if-else statements\n",
        "if_else_statements = []\n",
        "# print(top5_rules)\n",
        "\n",
        "# Print the top 5 rules as if-else statements\n",
        "print(\"Top 5 Rules as If-Else Statements:\")\n",
        "pattern = r'\\[(.*?)\\]'\n",
        "\n",
        "# Use re.findall() to extract text between square brackets\n",
        "import re\n",
        "for statement in top5_rules:\n",
        "    print(re.findall(pattern, statement))\n"
      ],
      "metadata": {
        "colab": {
          "base_uri": "https://localhost:8080/"
        },
        "id": "5O0Y67YA80RA",
        "outputId": "b4354a2c-9536-4a6e-d074-e0fdc3727a29"
      },
      "execution_count": 29,
      "outputs": [
        {
          "output_type": "stream",
          "name": "stdout",
          "text": [
            "120950    0\n",
            "Name: Loan_Status, dtype: int64\n",
            "Top 5 Rules as If-Else Statements:\n",
            "['Current_Ratio<2.56904888']\n",
            "['Percentage_of_On-time_Payments<99.450531']\n",
            "['Credit_Score<816']\n"
          ]
        }
      ]
    },
    {
      "cell_type": "code",
      "source": [],
      "metadata": {
        "id": "zuUZlVgFIwNP"
      },
      "execution_count": null,
      "outputs": []
    },
    {
      "cell_type": "code",
      "source": [],
      "metadata": {
        "colab": {
          "base_uri": "https://localhost:8080/",
          "height": 499
        },
        "id": "bCMGt0ps4ZIe",
        "outputId": "f593038c-d765-4e45-b69d-5967231ccb98"
      },
      "execution_count": null,
      "outputs": [
        {
          "output_type": "display_data",
          "data": {
            "text/plain": [
              "<Figure size 1000x600 with 1 Axes>"
            ],
            "image/png": "[encoded data removed]"
          },
          "metadata": {}
        }
      ]
    },
    {
      "cell_type": "markdown",
      "source": [],
      "metadata": {
        "id": "S3TD9P1a4Y9-"
      }
    },
    {
      "cell_type": "code",
      "source": [
        "df.columns\n"
      ],
      "metadata": {
        "colab": {
          "base_uri": "https://localhost:8080/"
        },
        "id": "MmtS1jAxL2rM",
        "outputId": "55fb1683-8a4c-4acb-89f5-3b19f7f6ba98"
      },
      "execution_count": null,
      "outputs": [
        {
          "output_type": "execute_result",
          "data": {
            "text/plain": [
              "Index(['Industry_Type', 'Annual_Sales_(Revenue)', 'Net_Income', 'Total_Assets',\n",
              "       'Current_Ratio', 'Quick_Ratio', 'Debt_to_Equity_Ratio',\n",
              "       'Return_on_Assets_(ROA)', 'Return_on_Equity_(ROE)',\n",
              "       'Gross_Profit_Margin', 'Operating_Profit_Margin', 'Net_Profit_Margin',\n",
              "       'Total_Liabilities', 'Total_Shareholder_Equity', 'Number_of_Employees',\n",
              "       'Age_of_the_Company', 'Loan_Amount_Requested', 'UrbanORRural',\n",
              "       'NewExist', 'Credit_Score', 'Number_of_Existing_Loans',\n",
              "       'Percentage_of_On-time_Payments', 'Number_of_Missed_or_Late_Payments',\n",
              "       'Approved_Amount', 'Loan_Status'],\n",
              "      dtype='object')"
            ]
          },
          "metadata": {},
          "execution_count": 239
        }
      ]
    },
    {
      "cell_type": "code",
      "source": [
        "# Perform train-test split\n",
        "from sklearn.metrics import mean_squared_error\n",
        "X = df.drop(['Loan_Status', 'Interest_Rate', 'Loan_per_Approved','TAN_ID'], axis=1)\n",
        "y=df['Loan_per_Approved']\n",
        "X_train, X_test, y_train, y_test = train_test_split(X, y, test_size=0.2, random_state=42)\n",
        "\n",
        "# Train XGBoost model\n",
        "model = xgb.XGBRegressor()\n",
        "model.fit(X_train, y_train)\n",
        "\n",
        "# Make predictions on test data\n",
        "y_pred = model.predict(X_train)\n",
        "\n",
        "# Evaluate model performance\n",
        "mse = mean_squared_error(y_train, y_pred)\n",
        "print(\"Mean Squared Error:\", mse)\n",
        "\n",
        "# Show how inferences were made\n",
        "# print(\"\\nInference Examples:\")\n",
        "# for i in range(len(X_test)):\n",
        "#     prediction = model.predict(X_test.iloc[[i]])\n",
        "#     print(f\"Features: {X_test.iloc[i].values}, Predicted Label: {prediction}, True Label: {y_test.iloc[i]}\")"
      ],
      "metadata": {
        "colab": {
          "base_uri": "https://localhost:8080/"
        },
        "id": "f7dbMApW5Z5A",
        "outputId": "d3f18636-485e-4b3c-f8b5-1b1075f24a0b"
      },
      "execution_count": 30,
      "outputs": [
        {
          "output_type": "stream",
          "name": "stdout",
          "text": [
            "Mean Squared Error: 4.897493578769116e-09\n"
          ]
        }
      ]
    },
    {
      "cell_type": "code",
      "source": [
        "# Save the trained model to a file\n",
        "import pickle\n",
        "with open('approved.pkl', 'wb') as file:\n",
        "    pickle.dump(model, file)\n",
        "\n",
        "print(\"Model saved successfully.\")"
      ],
      "metadata": {
        "colab": {
          "base_uri": "https://localhost:8080/"
        },
        "id": "aSYvwF2aN6w8",
        "outputId": "6075d32d-6137-4c5b-d494-8eb7727b2e66"
      },
      "execution_count": 31,
      "outputs": [
        {
          "output_type": "stream",
          "name": "stdout",
          "text": [
            "Model saved successfully.\n"
          ]
        }
      ]
    },
    {
      "cell_type": "code",
      "source": [
        "# Perform train-test split\n",
        "from sklearn.metrics import mean_squared_error\n",
        "X = df.drop(['Loan_Status', 'Interest_Rate', 'Loan_per_Approved','TAN_ID'], axis=1)\n",
        "y=df['Interest_Rate']\n",
        "X_train, X_test, y_train, y_test = train_test_split(X, y, test_size=0.2, random_state=42)\n",
        "\n",
        "# Train XGBoost model\n",
        "model = xgb.XGBRegressor()\n",
        "model.fit(X_train, y_train)\n",
        "\n",
        "# Make predictions on test data\n",
        "y_pred = model.predict(X_train)\n",
        "\n",
        "# Evaluate model performance\n",
        "mse = mean_squared_error(y_train, y_pred)\n",
        "print(\"Mean Squared Error:\", mse)\n",
        "\n",
        "# Show how inferences were made\n",
        "# print(\"\\nInference Examples:\")\n",
        "# for i in range(len(X_test)):\n",
        "#     prediction = model.predict(X_test.iloc[[i]])\n",
        "#     print(f\"Features: {X_test.iloc[i].values}, Predicted Label: {prediction}, True Label: {y_test.iloc[i]}\")"
      ],
      "metadata": {
        "id": "YnkW9rhqlANI",
        "colab": {
          "base_uri": "https://localhost:8080/"
        },
        "outputId": "bdda74f8-240c-4a59-a6b6-8d34db1035aa"
      },
      "execution_count": 32,
      "outputs": [
        {
          "output_type": "stream",
          "name": "stdout",
          "text": [
            "Mean Squared Error: 8.363877945572547e-05\n"
          ]
        }
      ]
    },
    {
      "cell_type": "code",
      "source": [
        "# Save the trained model to a file\n",
        "import pickle\n",
        "with open('interest.pkl', 'wb') as file:\n",
        "    pickle.dump(model, file)\n",
        "\n",
        "print(\"Model saved successfully.\")"
      ],
      "metadata": {
        "id": "GrLpie0Vjswe",
        "colab": {
          "base_uri": "https://localhost:8080/"
        },
        "outputId": "26a440fe-a7bf-4cdf-eaef-47221565a356"
      },
      "execution_count": 33,
      "outputs": [
        {
          "output_type": "stream",
          "name": "stdout",
          "text": [
            "Model saved successfully.\n"
          ]
        }
      ]
    }
  ]
}